{
 "cells": [
  {
   "cell_type": "code",
   "execution_count": 5,
   "id": "828b901b",
   "metadata": {},
   "outputs": [],
   "source": [
    "import pandas as pd\n",
    "import numpy as np\n",
    "import matplotlib.pyplot as plt\n",
    "from datetime import date"
   ]
  },
  {
   "cell_type": "code",
   "execution_count": 2,
   "id": "a3b62028",
   "metadata": {},
   "outputs": [],
   "source": [
    "df = pd.read_csv('./EDA_Gold_Silver_prices.csv')"
   ]
  },
  {
   "cell_type": "code",
   "execution_count": 4,
   "id": "f496f0a8",
   "metadata": {},
   "outputs": [
    {
     "name": "stdout",
     "output_type": "stream",
     "text": [
      "<class 'pandas.core.frame.DataFrame'>\n",
      "RangeIndex: 241 entries, 0 to 240\n",
      "Data columns (total 3 columns):\n",
      " #   Column       Non-Null Count  Dtype  \n",
      "---  ------       --------------  -----  \n",
      " 0   Month        241 non-null    object \n",
      " 1   SilverPrice  241 non-null    float64\n",
      " 2   GoldPrice    241 non-null    float64\n",
      "dtypes: float64(2), object(1)\n",
      "memory usage: 5.8+ KB\n"
     ]
    }
   ],
   "source": [
    "df.info()"
   ]
  },
  {
   "cell_type": "code",
   "execution_count": 25,
   "id": "0796511d",
   "metadata": {},
   "outputs": [
    {
     "data": {
      "text/plain": [
       "0      Mar-97\n",
       "1      Apr-97\n",
       "2      May-97\n",
       "3      Jun-97\n",
       "4      Jul-97\n",
       "        ...  \n",
       "236    Nov-16\n",
       "237    Dec-16\n",
       "238    Jan-17\n",
       "239    Feb-17\n",
       "240    Mar-17\n",
       "Name: Month, Length: 241, dtype: object"
      ]
     },
     "execution_count": 25,
     "metadata": {},
     "output_type": "execute_result"
    }
   ],
   "source": [
    "df.Month.iloc[:,]"
   ]
  },
  {
   "cell_type": "code",
   "execution_count": 30,
   "id": "85608c88",
   "metadata": {},
   "outputs": [],
   "source": [
    "df['year'] = df.Month.apply(lambda x: x[-2:])"
   ]
  },
  {
   "cell_type": "code",
   "execution_count": 34,
   "id": "c527dba6",
   "metadata": {},
   "outputs": [],
   "source": [
    "df['month'] = df.Month.apply(lambda x: x[0:3])"
   ]
  },
  {
   "cell_type": "code",
   "execution_count": 35,
   "id": "25afc49f",
   "metadata": {},
   "outputs": [
    {
     "data": {
      "text/html": [
       "<div>\n",
       "<style scoped>\n",
       "    .dataframe tbody tr th:only-of-type {\n",
       "        vertical-align: middle;\n",
       "    }\n",
       "\n",
       "    .dataframe tbody tr th {\n",
       "        vertical-align: top;\n",
       "    }\n",
       "\n",
       "    .dataframe thead th {\n",
       "        text-align: right;\n",
       "    }\n",
       "</style>\n",
       "<table border=\"1\" class=\"dataframe\">\n",
       "  <thead>\n",
       "    <tr style=\"text-align: right;\">\n",
       "      <th></th>\n",
       "      <th>Month</th>\n",
       "      <th>SilverPrice</th>\n",
       "      <th>GoldPrice</th>\n",
       "      <th>year</th>\n",
       "      <th>month</th>\n",
       "    </tr>\n",
       "  </thead>\n",
       "  <tbody>\n",
       "    <tr>\n",
       "      <th>0</th>\n",
       "      <td>Mar-97</td>\n",
       "      <td>186.48</td>\n",
       "      <td>12619.24</td>\n",
       "      <td>97</td>\n",
       "      <td>Mar</td>\n",
       "    </tr>\n",
       "    <tr>\n",
       "      <th>1</th>\n",
       "      <td>Apr-97</td>\n",
       "      <td>170.65</td>\n",
       "      <td>12338.59</td>\n",
       "      <td>97</td>\n",
       "      <td>Apr</td>\n",
       "    </tr>\n",
       "    <tr>\n",
       "      <th>2</th>\n",
       "      <td>May-97</td>\n",
       "      <td>170.44</td>\n",
       "      <td>12314.94</td>\n",
       "      <td>97</td>\n",
       "      <td>May</td>\n",
       "    </tr>\n",
       "    <tr>\n",
       "      <th>3</th>\n",
       "      <td>Jun-97</td>\n",
       "      <td>169.96</td>\n",
       "      <td>12202.78</td>\n",
       "      <td>97</td>\n",
       "      <td>Jun</td>\n",
       "    </tr>\n",
       "    <tr>\n",
       "      <th>4</th>\n",
       "      <td>Jul-97</td>\n",
       "      <td>155.80</td>\n",
       "      <td>11582.07</td>\n",
       "      <td>97</td>\n",
       "      <td>Jul</td>\n",
       "    </tr>\n",
       "    <tr>\n",
       "      <th>...</th>\n",
       "      <td>...</td>\n",
       "      <td>...</td>\n",
       "      <td>...</td>\n",
       "      <td>...</td>\n",
       "      <td>...</td>\n",
       "    </tr>\n",
       "    <tr>\n",
       "      <th>236</th>\n",
       "      <td>Nov-16</td>\n",
       "      <td>1175.45</td>\n",
       "      <td>83622.54</td>\n",
       "      <td>16</td>\n",
       "      <td>Nov</td>\n",
       "    </tr>\n",
       "    <tr>\n",
       "      <th>237</th>\n",
       "      <td>Dec-16</td>\n",
       "      <td>1115.72</td>\n",
       "      <td>78583.48</td>\n",
       "      <td>16</td>\n",
       "      <td>Dec</td>\n",
       "    </tr>\n",
       "    <tr>\n",
       "      <th>238</th>\n",
       "      <td>Jan-17</td>\n",
       "      <td>1151.15</td>\n",
       "      <td>81191.05</td>\n",
       "      <td>17</td>\n",
       "      <td>Jan</td>\n",
       "    </tr>\n",
       "    <tr>\n",
       "      <th>239</th>\n",
       "      <td>Feb-17</td>\n",
       "      <td>1203.35</td>\n",
       "      <td>82818.17</td>\n",
       "      <td>17</td>\n",
       "      <td>Feb</td>\n",
       "    </tr>\n",
       "    <tr>\n",
       "      <th>240</th>\n",
       "      <td>Mar-17</td>\n",
       "      <td>1162.15</td>\n",
       "      <td>81169.45</td>\n",
       "      <td>17</td>\n",
       "      <td>Mar</td>\n",
       "    </tr>\n",
       "  </tbody>\n",
       "</table>\n",
       "<p>241 rows × 5 columns</p>\n",
       "</div>"
      ],
      "text/plain": [
       "      Month  SilverPrice  GoldPrice year month\n",
       "0    Mar-97       186.48   12619.24   97   Mar\n",
       "1    Apr-97       170.65   12338.59   97   Apr\n",
       "2    May-97       170.44   12314.94   97   May\n",
       "3    Jun-97       169.96   12202.78   97   Jun\n",
       "4    Jul-97       155.80   11582.07   97   Jul\n",
       "..      ...          ...        ...  ...   ...\n",
       "236  Nov-16      1175.45   83622.54   16   Nov\n",
       "237  Dec-16      1115.72   78583.48   16   Dec\n",
       "238  Jan-17      1151.15   81191.05   17   Jan\n",
       "239  Feb-17      1203.35   82818.17   17   Feb\n",
       "240  Mar-17      1162.15   81169.45   17   Mar\n",
       "\n",
       "[241 rows x 5 columns]"
      ]
     },
     "execution_count": 35,
     "metadata": {},
     "output_type": "execute_result"
    }
   ],
   "source": [
    "df_corr = "
   ]
  },
  {
   "cell_type": "code",
   "execution_count": 10,
   "id": "290c8d50",
   "metadata": {},
   "outputs": [],
   "source": [
    "from datetime import datetime"
   ]
  },
  {
   "cell_type": "code",
   "execution_count": 37,
   "id": "16123b49",
   "metadata": {},
   "outputs": [
    {
     "data": {
      "text/html": [
       "<div>\n",
       "<style scoped>\n",
       "    .dataframe tbody tr th:only-of-type {\n",
       "        vertical-align: middle;\n",
       "    }\n",
       "\n",
       "    .dataframe tbody tr th {\n",
       "        vertical-align: top;\n",
       "    }\n",
       "\n",
       "    .dataframe thead th {\n",
       "        text-align: right;\n",
       "    }\n",
       "</style>\n",
       "<table border=\"1\" class=\"dataframe\">\n",
       "  <thead>\n",
       "    <tr style=\"text-align: right;\">\n",
       "      <th></th>\n",
       "      <th>SilverPrice</th>\n",
       "      <th>GoldPrice</th>\n",
       "    </tr>\n",
       "  </thead>\n",
       "  <tbody>\n",
       "    <tr>\n",
       "      <th>SilverPrice</th>\n",
       "      <td>1.000000</td>\n",
       "      <td>0.954256</td>\n",
       "    </tr>\n",
       "    <tr>\n",
       "      <th>GoldPrice</th>\n",
       "      <td>0.954256</td>\n",
       "      <td>1.000000</td>\n",
       "    </tr>\n",
       "  </tbody>\n",
       "</table>\n",
       "</div>"
      ],
      "text/plain": [
       "             SilverPrice  GoldPrice\n",
       "SilverPrice     1.000000   0.954256\n",
       "GoldPrice       0.954256   1.000000"
      ]
     },
     "execution_count": 37,
     "metadata": {},
     "output_type": "execute_result"
    }
   ],
   "source": [
    "df.corr()"
   ]
  },
  {
   "cell_type": "code",
   "execution_count": 40,
   "id": "c9257dbe",
   "metadata": {},
   "outputs": [],
   "source": [
    "df_2008 = df[df.year == '08' ]"
   ]
  },
  {
   "cell_type": "code",
   "execution_count": 41,
   "id": "4b6c8a3a",
   "metadata": {},
   "outputs": [
    {
     "data": {
      "text/html": [
       "<div>\n",
       "<style scoped>\n",
       "    .dataframe tbody tr th:only-of-type {\n",
       "        vertical-align: middle;\n",
       "    }\n",
       "\n",
       "    .dataframe tbody tr th {\n",
       "        vertical-align: top;\n",
       "    }\n",
       "\n",
       "    .dataframe thead th {\n",
       "        text-align: right;\n",
       "    }\n",
       "</style>\n",
       "<table border=\"1\" class=\"dataframe\">\n",
       "  <thead>\n",
       "    <tr style=\"text-align: right;\">\n",
       "      <th></th>\n",
       "      <th>Month</th>\n",
       "      <th>SilverPrice</th>\n",
       "      <th>GoldPrice</th>\n",
       "      <th>year</th>\n",
       "      <th>month</th>\n",
       "    </tr>\n",
       "  </thead>\n",
       "  <tbody>\n",
       "    <tr>\n",
       "      <th>130</th>\n",
       "      <td>Jan-08</td>\n",
       "      <td>632.29</td>\n",
       "      <td>35025.78</td>\n",
       "      <td>08</td>\n",
       "      <td>Jan</td>\n",
       "    </tr>\n",
       "    <tr>\n",
       "      <th>131</th>\n",
       "      <td>Feb-08</td>\n",
       "      <td>701.87</td>\n",
       "      <td>36642.46</td>\n",
       "      <td>08</td>\n",
       "      <td>Feb</td>\n",
       "    </tr>\n",
       "    <tr>\n",
       "      <th>132</th>\n",
       "      <td>Mar-08</td>\n",
       "      <td>775.49</td>\n",
       "      <td>39082.77</td>\n",
       "      <td>08</td>\n",
       "      <td>Mar</td>\n",
       "    </tr>\n",
       "    <tr>\n",
       "      <th>133</th>\n",
       "      <td>Apr-08</td>\n",
       "      <td>700.96</td>\n",
       "      <td>36416.00</td>\n",
       "      <td>08</td>\n",
       "      <td>Apr</td>\n",
       "    </tr>\n",
       "    <tr>\n",
       "      <th>134</th>\n",
       "      <td>May-08</td>\n",
       "      <td>718.20</td>\n",
       "      <td>37435.38</td>\n",
       "      <td>08</td>\n",
       "      <td>May</td>\n",
       "    </tr>\n",
       "    <tr>\n",
       "      <th>135</th>\n",
       "      <td>Jun-08</td>\n",
       "      <td>729.63</td>\n",
       "      <td>38087.88</td>\n",
       "      <td>08</td>\n",
       "      <td>Jun</td>\n",
       "    </tr>\n",
       "    <tr>\n",
       "      <th>136</th>\n",
       "      <td>Jul-08</td>\n",
       "      <td>773.80</td>\n",
       "      <td>40256.56</td>\n",
       "      <td>08</td>\n",
       "      <td>Jul</td>\n",
       "    </tr>\n",
       "    <tr>\n",
       "      <th>137</th>\n",
       "      <td>Aug-08</td>\n",
       "      <td>625.97</td>\n",
       "      <td>36026.85</td>\n",
       "      <td>08</td>\n",
       "      <td>Aug</td>\n",
       "    </tr>\n",
       "    <tr>\n",
       "      <th>138</th>\n",
       "      <td>Sep-08</td>\n",
       "      <td>555.58</td>\n",
       "      <td>37815.02</td>\n",
       "      <td>08</td>\n",
       "      <td>Sep</td>\n",
       "    </tr>\n",
       "    <tr>\n",
       "      <th>139</th>\n",
       "      <td>Oct-08</td>\n",
       "      <td>507.20</td>\n",
       "      <td>39235.79</td>\n",
       "      <td>08</td>\n",
       "      <td>Oct</td>\n",
       "    </tr>\n",
       "    <tr>\n",
       "      <th>140</th>\n",
       "      <td>Nov-08</td>\n",
       "      <td>483.55</td>\n",
       "      <td>37284.82</td>\n",
       "      <td>08</td>\n",
       "      <td>Nov</td>\n",
       "    </tr>\n",
       "    <tr>\n",
       "      <th>141</th>\n",
       "      <td>Dec-08</td>\n",
       "      <td>501.82</td>\n",
       "      <td>39696.27</td>\n",
       "      <td>08</td>\n",
       "      <td>Dec</td>\n",
       "    </tr>\n",
       "  </tbody>\n",
       "</table>\n",
       "</div>"
      ],
      "text/plain": [
       "      Month  SilverPrice  GoldPrice year month\n",
       "130  Jan-08       632.29   35025.78   08   Jan\n",
       "131  Feb-08       701.87   36642.46   08   Feb\n",
       "132  Mar-08       775.49   39082.77   08   Mar\n",
       "133  Apr-08       700.96   36416.00   08   Apr\n",
       "134  May-08       718.20   37435.38   08   May\n",
       "135  Jun-08       729.63   38087.88   08   Jun\n",
       "136  Jul-08       773.80   40256.56   08   Jul\n",
       "137  Aug-08       625.97   36026.85   08   Aug\n",
       "138  Sep-08       555.58   37815.02   08   Sep\n",
       "139  Oct-08       507.20   39235.79   08   Oct\n",
       "140  Nov-08       483.55   37284.82   08   Nov\n",
       "141  Dec-08       501.82   39696.27   08   Dec"
      ]
     },
     "execution_count": 41,
     "metadata": {},
     "output_type": "execute_result"
    }
   ],
   "source": [
    "df_2008"
   ]
  },
  {
   "cell_type": "code",
   "execution_count": 42,
   "id": "d70a1122",
   "metadata": {},
   "outputs": [
    {
     "data": {
      "text/html": [
       "<div>\n",
       "<style scoped>\n",
       "    .dataframe tbody tr th:only-of-type {\n",
       "        vertical-align: middle;\n",
       "    }\n",
       "\n",
       "    .dataframe tbody tr th {\n",
       "        vertical-align: top;\n",
       "    }\n",
       "\n",
       "    .dataframe thead th {\n",
       "        text-align: right;\n",
       "    }\n",
       "</style>\n",
       "<table border=\"1\" class=\"dataframe\">\n",
       "  <thead>\n",
       "    <tr style=\"text-align: right;\">\n",
       "      <th></th>\n",
       "      <th>SilverPrice</th>\n",
       "      <th>GoldPrice</th>\n",
       "    </tr>\n",
       "  </thead>\n",
       "  <tbody>\n",
       "    <tr>\n",
       "      <th>SilverPrice</th>\n",
       "      <td>1.000000</td>\n",
       "      <td>0.009584</td>\n",
       "    </tr>\n",
       "    <tr>\n",
       "      <th>GoldPrice</th>\n",
       "      <td>0.009584</td>\n",
       "      <td>1.000000</td>\n",
       "    </tr>\n",
       "  </tbody>\n",
       "</table>\n",
       "</div>"
      ],
      "text/plain": [
       "             SilverPrice  GoldPrice\n",
       "SilverPrice     1.000000   0.009584\n",
       "GoldPrice       0.009584   1.000000"
      ]
     },
     "execution_count": 42,
     "metadata": {},
     "output_type": "execute_result"
    }
   ],
   "source": [
    "df_2008.corr()"
   ]
  },
  {
   "cell_type": "code",
   "execution_count": 43,
   "id": "478d2d9a",
   "metadata": {},
   "outputs": [
    {
     "data": {
      "text/plain": [
       "[<matplotlib.lines.Line2D at 0x235967b4820>]"
      ]
     },
     "execution_count": 43,
     "metadata": {},
     "output_type": "execute_result"
    },
    {
     "data": {
      "image/png": "[encoded data removed]",
      "text/plain": [
       "<Figure size 432x288 with 1 Axes>"
      ]
     },
     "metadata": {
      "needs_background": "light"
     },
     "output_type": "display_data"
    }
   ],
   "source": [
    "plt.plot(df.SilverPrice, df.GoldPrice)"
   ]
  },
  {
   "cell_type": "code",
   "execution_count": null,
   "id": "0e2a1ed8",
   "metadata": {},
   "outputs": [],
   "source": []
  }
 ],
 "metadata": {
  "kernelspec": {
   "display_name": "Python 3",
   "language": "python",
   "name": "python3"
  },
  "language_info": {
   "codemirror_mode": {
    "name": "ipython",
    "version": 3
   },
   "file_extension": ".py",
   "mimetype": "text/x-python",
   "name": "python",
   "nbconvert_exporter": "python",
   "pygments_lexer": "ipython3",
   "version": "3.8.8"
  }
 },
 "nbformat": 4,
 "nbformat_minor": 5
}
