{
 "cells": [
  {
   "cell_type": "code",
   "execution_count": 1,
   "id": "143ddf3a",
   "metadata": {},
   "outputs": [],
   "source": [
    "import numpy as np\n",
    "import pandas as pd"
   ]
  },
  {
   "cell_type": "code",
   "execution_count": 48,
   "id": "450fd2c5",
   "metadata": {},
   "outputs": [],
   "source": [
    "df = pd.read_csv('./Inferential Statistics - Student Loan.csv')"
   ]
  },
  {
   "cell_type": "code",
   "execution_count": 64,
   "id": "e9e2e1be",
   "metadata": {},
   "outputs": [
    {
     "data": {
      "text/html": [
       "<div>\n",
       "<style scoped>\n",
       "    .dataframe tbody tr th:only-of-type {\n",
       "        vertical-align: middle;\n",
       "    }\n",
       "\n",
       "    .dataframe tbody tr th {\n",
       "        vertical-align: top;\n",
       "    }\n",
       "\n",
       "    .dataframe thead th {\n",
       "        text-align: right;\n",
       "    }\n",
       "</style>\n",
       "<table border=\"1\" class=\"dataframe\">\n",
       "  <thead>\n",
       "    <tr style=\"text-align: right;\">\n",
       "      <th></th>\n",
       "      <th>Customer No.</th>\n",
       "      <th>Exposure at Default (in lakh Rs.)</th>\n",
       "      <th>Recovery (%)</th>\n",
       "      <th>Probability of Default</th>\n",
       "      <th>Unnamed: 4</th>\n",
       "      <th>Unnamed: 5</th>\n",
       "      <th>recoverable_amt</th>\n",
       "      <th>amt_at_risk</th>\n",
       "      <th>probability_loss_amt</th>\n",
       "    </tr>\n",
       "  </thead>\n",
       "  <tbody>\n",
       "    <tr>\n",
       "      <th>0</th>\n",
       "      <td>1</td>\n",
       "      <td>1150000.0</td>\n",
       "      <td>20.00</td>\n",
       "      <td>0.0070</td>\n",
       "      <td>NaN</td>\n",
       "      <td>NaN</td>\n",
       "      <td>230000.0</td>\n",
       "      <td>920000.0</td>\n",
       "      <td>6440.00000</td>\n",
       "    </tr>\n",
       "    <tr>\n",
       "      <th>1</th>\n",
       "      <td>2</td>\n",
       "      <td>24000.0</td>\n",
       "      <td>5.10</td>\n",
       "      <td>0.0033</td>\n",
       "      <td>NaN</td>\n",
       "      <td>NaN</td>\n",
       "      <td>1224.0</td>\n",
       "      <td>22776.0</td>\n",
       "      <td>75.16080</td>\n",
       "    </tr>\n",
       "    <tr>\n",
       "      <th>2</th>\n",
       "      <td>3</td>\n",
       "      <td>4000.0</td>\n",
       "      <td>24.86</td>\n",
       "      <td>0.0022</td>\n",
       "      <td>NaN</td>\n",
       "      <td>NaN</td>\n",
       "      <td>994.4</td>\n",
       "      <td>3005.6</td>\n",
       "      <td>6.61232</td>\n",
       "    </tr>\n",
       "    <tr>\n",
       "      <th>3</th>\n",
       "      <td>4</td>\n",
       "      <td>1381000.0</td>\n",
       "      <td>2.29</td>\n",
       "      <td>0.0066</td>\n",
       "      <td>NaN</td>\n",
       "      <td>NaN</td>\n",
       "      <td>31624.9</td>\n",
       "      <td>1349375.1</td>\n",
       "      <td>8905.87566</td>\n",
       "    </tr>\n",
       "    <tr>\n",
       "      <th>4</th>\n",
       "      <td>5</td>\n",
       "      <td>1984000.0</td>\n",
       "      <td>3.47</td>\n",
       "      <td>0.0020</td>\n",
       "      <td>NaN</td>\n",
       "      <td>NaN</td>\n",
       "      <td>68844.8</td>\n",
       "      <td>1915155.2</td>\n",
       "      <td>3830.31040</td>\n",
       "    </tr>\n",
       "    <tr>\n",
       "      <th>...</th>\n",
       "      <td>...</td>\n",
       "      <td>...</td>\n",
       "      <td>...</td>\n",
       "      <td>...</td>\n",
       "      <td>...</td>\n",
       "      <td>...</td>\n",
       "      <td>...</td>\n",
       "      <td>...</td>\n",
       "      <td>...</td>\n",
       "    </tr>\n",
       "    <tr>\n",
       "      <th>9995</th>\n",
       "      <td>9996</td>\n",
       "      <td>1979000.0</td>\n",
       "      <td>20.19</td>\n",
       "      <td>0.0079</td>\n",
       "      <td>NaN</td>\n",
       "      <td>NaN</td>\n",
       "      <td>399560.1</td>\n",
       "      <td>1579439.9</td>\n",
       "      <td>12477.57521</td>\n",
       "    </tr>\n",
       "    <tr>\n",
       "      <th>9996</th>\n",
       "      <td>9997</td>\n",
       "      <td>1833000.0</td>\n",
       "      <td>38.38</td>\n",
       "      <td>0.0068</td>\n",
       "      <td>NaN</td>\n",
       "      <td>NaN</td>\n",
       "      <td>703505.4</td>\n",
       "      <td>1129494.6</td>\n",
       "      <td>7680.56328</td>\n",
       "    </tr>\n",
       "    <tr>\n",
       "      <th>9997</th>\n",
       "      <td>9998</td>\n",
       "      <td>1083000.0</td>\n",
       "      <td>28.40</td>\n",
       "      <td>0.0037</td>\n",
       "      <td>NaN</td>\n",
       "      <td>NaN</td>\n",
       "      <td>307572.0</td>\n",
       "      <td>775428.0</td>\n",
       "      <td>2869.08360</td>\n",
       "    </tr>\n",
       "    <tr>\n",
       "      <th>9998</th>\n",
       "      <td>9999</td>\n",
       "      <td>2429000.0</td>\n",
       "      <td>37.37</td>\n",
       "      <td>0.0056</td>\n",
       "      <td>NaN</td>\n",
       "      <td>NaN</td>\n",
       "      <td>907717.3</td>\n",
       "      <td>1521282.7</td>\n",
       "      <td>8519.18312</td>\n",
       "    </tr>\n",
       "    <tr>\n",
       "      <th>9999</th>\n",
       "      <td>10000</td>\n",
       "      <td>3000.0</td>\n",
       "      <td>22.55</td>\n",
       "      <td>0.0032</td>\n",
       "      <td>NaN</td>\n",
       "      <td>NaN</td>\n",
       "      <td>676.5</td>\n",
       "      <td>2323.5</td>\n",
       "      <td>7.43520</td>\n",
       "    </tr>\n",
       "  </tbody>\n",
       "</table>\n",
       "<p>10000 rows × 9 columns</p>\n",
       "</div>"
      ],
      "text/plain": [
       "      Customer No.  Exposure at Default (in lakh Rs.)  Recovery (%)  \\\n",
       "0                1                          1150000.0         20.00   \n",
       "1                2                            24000.0          5.10   \n",
       "2                3                             4000.0         24.86   \n",
       "3                4                          1381000.0          2.29   \n",
       "4                5                          1984000.0          3.47   \n",
       "...            ...                                ...           ...   \n",
       "9995          9996                          1979000.0         20.19   \n",
       "9996          9997                          1833000.0         38.38   \n",
       "9997          9998                          1083000.0         28.40   \n",
       "9998          9999                          2429000.0         37.37   \n",
       "9999         10000                             3000.0         22.55   \n",
       "\n",
       "      Probability of Default  Unnamed: 4  Unnamed: 5  recoverable_amt  \\\n",
       "0                     0.0070         NaN         NaN         230000.0   \n",
       "1                     0.0033         NaN         NaN           1224.0   \n",
       "2                     0.0022         NaN         NaN            994.4   \n",
       "3                     0.0066         NaN         NaN          31624.9   \n",
       "4                     0.0020         NaN         NaN          68844.8   \n",
       "...                      ...         ...         ...              ...   \n",
       "9995                  0.0079         NaN         NaN         399560.1   \n",
       "9996                  0.0068         NaN         NaN         703505.4   \n",
       "9997                  0.0037         NaN         NaN         307572.0   \n",
       "9998                  0.0056         NaN         NaN         907717.3   \n",
       "9999                  0.0032         NaN         NaN            676.5   \n",
       "\n",
       "      amt_at_risk  probability_loss_amt  \n",
       "0        920000.0            6440.00000  \n",
       "1         22776.0              75.16080  \n",
       "2          3005.6               6.61232  \n",
       "3       1349375.1            8905.87566  \n",
       "4       1915155.2            3830.31040  \n",
       "...           ...                   ...  \n",
       "9995    1579439.9           12477.57521  \n",
       "9996    1129494.6            7680.56328  \n",
       "9997     775428.0            2869.08360  \n",
       "9998    1521282.7            8519.18312  \n",
       "9999       2323.5               7.43520  \n",
       "\n",
       "[10000 rows x 9 columns]"
      ]
     },
     "execution_count": 64,
     "metadata": {},
     "output_type": "execute_result"
    }
   ],
   "source": [
    "df"
   ]
  },
  {
   "cell_type": "code",
   "execution_count": 50,
   "id": "7bd68b79",
   "metadata": {},
   "outputs": [
    {
     "data": {
      "text/plain": [
       "(10000, 6)"
      ]
     },
     "execution_count": 50,
     "metadata": {},
     "output_type": "execute_result"
    }
   ],
   "source": [
    "df.shape"
   ]
  },
  {
   "cell_type": "code",
   "execution_count": 51,
   "id": "b18da21d",
   "metadata": {},
   "outputs": [
    {
     "data": {
      "text/plain": [
       "Customer No.                             0\n",
       "Exposure at Default (in lakh Rs.)        0\n",
       "Recovery (%)                             0\n",
       "Probability of Default                   0\n",
       "Unnamed: 4                           10000\n",
       "Unnamed: 5                           10000\n",
       "dtype: int64"
      ]
     },
     "execution_count": 51,
     "metadata": {},
     "output_type": "execute_result"
    }
   ],
   "source": [
    "df.isnull().sum()"
   ]
  },
  {
   "cell_type": "code",
   "execution_count": 27,
   "id": "3afa279d",
   "metadata": {},
   "outputs": [
    {
     "name": "stdout",
     "output_type": "stream",
     "text": [
      "<class 'pandas.core.frame.DataFrame'>\n",
      "RangeIndex: 10000 entries, 0 to 9999\n",
      "Data columns (total 6 columns):\n",
      " #   Column                             Non-Null Count  Dtype  \n",
      "---  ------                             --------------  -----  \n",
      " 0   Customer No.                       10000 non-null  int64  \n",
      " 1   Exposure at Default (in lakh Rs.)  10000 non-null  float64\n",
      " 2   Recovery (%)                       0 non-null      float64\n",
      " 3   Probability of Default             10000 non-null  float64\n",
      " 4   Unnamed: 4                         0 non-null      float64\n",
      " 5   Unnamed: 5                         0 non-null      float64\n",
      "dtypes: float64(5), int64(1)\n",
      "memory usage: 468.9 KB\n"
     ]
    }
   ],
   "source": [
    "df.info()"
   ]
  },
  {
   "cell_type": "code",
   "execution_count": 53,
   "id": "eb2f0988",
   "metadata": {},
   "outputs": [],
   "source": [
    "df['Recovery (%)'] = df['Recovery (%)'].apply(lambda x : pd.to_numeric(x[0:-1]))"
   ]
  },
  {
   "cell_type": "code",
   "execution_count": 26,
   "id": "50eb59d0",
   "metadata": {},
   "outputs": [],
   "source": [
    "df['Recovery (%)'] = df['Recovery (%)'].value_counts().astype(float) "
   ]
  },
  {
   "cell_type": "code",
   "execution_count": 39,
   "id": "5f54c6d0",
   "metadata": {},
   "outputs": [],
   "source": [
    "# df[['Exposure at Default (in lakh Rs.)','Recovery (%)']].apply(lambda x, y : x * y)\n"
   ]
  },
  {
   "cell_type": "code",
   "execution_count": 56,
   "id": "3b088f67",
   "metadata": {},
   "outputs": [],
   "source": [
    "df['Exposure at Default (in lakh Rs.)'] = df['Exposure at Default (in lakh Rs.)'] * 100000"
   ]
  },
  {
   "cell_type": "code",
   "execution_count": 60,
   "id": "28600421",
   "metadata": {},
   "outputs": [],
   "source": [
    "df['recoverable_amt'] = df['Exposure at Default (in lakh Rs.)'] * (df['Recovery (%)']/100)"
   ]
  },
  {
   "cell_type": "code",
   "execution_count": 61,
   "id": "e23d96ab",
   "metadata": {},
   "outputs": [],
   "source": [
    "df['amt_at_risk']  = df['Exposure at Default (in lakh Rs.)'] - df['recoverable_amt']"
   ]
  },
  {
   "cell_type": "code",
   "execution_count": 63,
   "id": "5e9d8124",
   "metadata": {},
   "outputs": [],
   "source": [
    "df['probability_loss_amt']  = df['amt_at_risk'] *  df['Probability of Default']"
   ]
  },
  {
   "cell_type": "code",
   "execution_count": 65,
   "id": "a7795e04",
   "metadata": {},
   "outputs": [
    {
     "data": {
      "text/plain": [
       "49339131.440620005"
      ]
     },
     "execution_count": 65,
     "metadata": {},
     "output_type": "execute_result"
    }
   ],
   "source": [
    "df['probability_loss_amt'].sum()"
   ]
  },
  {
   "cell_type": "code",
   "execution_count": null,
   "id": "9bf9b8d9",
   "metadata": {},
   "outputs": [],
   "source": []
  }
 ],
 "metadata": {
  "kernelspec": {
   "display_name": "Python 3",
   "language": "python",
   "name": "python3"
  },
  "language_info": {
   "codemirror_mode": {
    "name": "ipython",
    "version": 3
   },
   "file_extension": ".py",
   "mimetype": "text/x-python",
   "name": "python",
   "nbconvert_exporter": "python",
   "pygments_lexer": "ipython3",
   "version": "3.8.8"
  }
 },
 "nbformat": 4,
 "nbformat_minor": 5
}
