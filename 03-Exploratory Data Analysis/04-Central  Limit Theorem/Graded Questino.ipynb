{
 "cells": [
  {
   "cell_type": "code",
   "execution_count": 2,
   "id": "bf865ade",
   "metadata": {},
   "outputs": [],
   "source": [
    "import numpy as np"
   ]
  },
  {
   "cell_type": "code",
   "execution_count": 6,
   "id": "02a268ff",
   "metadata": {},
   "outputs": [
    {
     "name": "stdout",
     "output_type": "stream",
     "text": [
      "0\n",
      "10\n",
      ".5\n",
      "[5 6 5 5 5 6 5 7 8 5]\n"
     ]
    }
   ],
   "source": [
    "import numpy as np \n",
    "seed=int(input())\n",
    "n=int(input())\n",
    "p=float(input())\n",
    "np.random.seed(seed)\n",
    "# #write your code here\n",
    "s = np.random.binomial(n,p,10)\n",
    "print(s)"
   ]
  },
  {
   "cell_type": "code",
   "execution_count": 11,
   "id": "d99b5bd3",
   "metadata": {},
   "outputs": [
    {
     "name": "stdout",
     "output_type": "stream",
     "text": [
      "0.78\n"
     ]
    }
   ],
   "source": [
    "from math import ceil\n",
    "\n",
    "\n",
    "m = 94\n",
    "sd = 10\n",
    "z = (1.65*sd)\n",
    "\n",
    "digits = 2\n",
    "mul = 10**digits\n",
    "\n",
    "ci = (m - z)/100\n",
    "ci = ceil(ci * mul)/mul\n",
    "print(ci)"
   ]
  },
  {
   "cell_type": "code",
   "execution_count": 13,
   "id": "bf56a777",
   "metadata": {},
   "outputs": [
    {
     "data": {
      "text/plain": [
       "10.5232"
      ]
     },
     "execution_count": 13,
     "metadata": {},
     "output_type": "execute_result"
    }
   ],
   "source": [
    "round(10.523232, 4)"
   ]
  },
  {
   "cell_type": "code",
   "execution_count": null,
   "id": "345e9c7e",
   "metadata": {},
   "outputs": [],
   "source": []
  }
 ],
 "metadata": {
  "kernelspec": {
   "display_name": "Python 3",
   "language": "python",
   "name": "python3"
  },
  "language_info": {
   "codemirror_mode": {
    "name": "ipython",
    "version": 3
   },
   "file_extension": ".py",
   "mimetype": "text/x-python",
   "name": "python",
   "nbconvert_exporter": "python",
   "pygments_lexer": "ipython3",
   "version": "3.8.8"
  }
 },
 "nbformat": 4,
 "nbformat_minor": 5
}
