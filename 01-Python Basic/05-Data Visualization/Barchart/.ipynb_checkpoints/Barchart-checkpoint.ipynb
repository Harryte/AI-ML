{
 "cells": [
  {
   "cell_type": "code",
   "execution_count": 1,
   "id": "ebb3276b",
   "metadata": {},
   "outputs": [],
   "source": [
    "import numpy as np\n",
    "import pandas as pd\n",
    "import matplotlib.pyplot as plt"
   ]
  },
  {
   "cell_type": "code",
   "execution_count": 2,
   "id": "1bee9b4e",
   "metadata": {},
   "outputs": [],
   "source": [
    "df = pd.read_csv('./StudentsPerformance.csv')"
   ]
  },
  {
   "cell_type": "code",
   "execution_count": 6,
   "id": "16c31cff",
   "metadata": {},
   "outputs": [],
   "source": [
    "subjects = df.columns[-3:]"
   ]
  },
  {
   "cell_type": "code",
   "execution_count": 13,
   "id": "b0d9291f",
   "metadata": {},
   "outputs": [],
   "source": [
    "dataset = df.groupby('gender')[subjects].mean()"
   ]
  },
  {
   "cell_type": "code",
   "execution_count": 9,
   "id": "116e5222",
   "metadata": {},
   "outputs": [],
   "source": [
    "indx = np.arange(len(subjects))"
   ]
  },
  {
   "cell_type": "code",
   "execution_count": 10,
   "id": "bce02ab1",
   "metadata": {},
   "outputs": [
    {
     "data": {
      "text/plain": [
       "array([0, 1, 2])"
      ]
     },
     "execution_count": 10,
     "metadata": {},
     "output_type": "execute_result"
    }
   ],
   "source": [
    "indx"
   ]
  },
  {
   "cell_type": "code",
   "execution_count": 11,
   "id": "341a6b78",
   "metadata": {},
   "outputs": [],
   "source": [
    "score_lable = np.arange(0,110,10)"
   ]
  },
  {
   "cell_type": "code",
   "execution_count": 59,
   "id": "28271f53",
   "metadata": {},
   "outputs": [
    {
     "data": {
      "text/plain": [
       "array([  0,  10,  20,  30,  40,  50,  60,  70,  80,  90, 100])"
      ]
     },
     "execution_count": 59,
     "metadata": {},
     "output_type": "execute_result"
    }
   ],
   "source": [
    "score_lable"
   ]
  },
  {
   "cell_type": "code",
   "execution_count": 21,
   "id": "3d482bfb",
   "metadata": {},
   "outputs": [
    {
     "data": {
      "text/plain": [
       "math score       68.728216\n",
       "reading score    65.473029\n",
       "writing score    63.311203\n",
       "Name: male, dtype: float64"
      ]
     },
     "execution_count": 21,
     "metadata": {},
     "output_type": "execute_result"
    }
   ],
   "source": [
    "dataset.T['male']"
   ]
  },
  {
   "cell_type": "code",
   "execution_count": 26,
   "id": "352d8d14",
   "metadata": {},
   "outputs": [],
   "source": [
    "male_mean = list(dataset.T['male'])\n",
    "female_mean = list(dataset.T['female'])"
   ]
  },
  {
   "cell_type": "code",
   "execution_count": 27,
   "id": "026104e7",
   "metadata": {},
   "outputs": [
    {
     "data": {
      "text/plain": [
       "[68.72821576763485, 65.47302904564316, 63.31120331950208]"
      ]
     },
     "execution_count": 27,
     "metadata": {},
     "output_type": "execute_result"
    }
   ],
   "source": [
    "male_mean"
   ]
  },
  {
   "cell_type": "code",
   "execution_count": 28,
   "id": "b8a5b356",
   "metadata": {},
   "outputs": [
    {
     "data": {
      "text/plain": [
       "[63.633204633204635, 72.60810810810811, 72.46718146718146]"
      ]
     },
     "execution_count": 28,
     "metadata": {},
     "output_type": "execute_result"
    }
   ],
   "source": [
    "female_mean"
   ]
  },
  {
   "cell_type": "code",
   "execution_count": 82,
   "id": "7674ea63",
   "metadata": {},
   "outputs": [],
   "source": [
    "bar_width = 0.35"
   ]
  },
  {
   "cell_type": "code",
   "execution_count": 85,
   "id": "97200b25",
   "metadata": {},
   "outputs": [
    {
     "data": {
      "image/png": "[encoded data removed]",
      "text/plain": [
       "<Figure size 432x288 with 1 Axes>"
      ]
     },
     "metadata": {
      "needs_background": "light"
     },
     "output_type": "display_data"
    }
   ],
   "source": [
    "fig, ax = plt.subplots()\n",
    "# barMale = ax.bar(indx - (bar_width*2), male_mean, bar_width, label='Male Means' )\n",
    "barMale = ax.bar(indx - (bar_width/2), male_mean, bar_width, label='Male Means' )\n",
    "barFemale = ax.bar(indx +(bar_width/2), female_mean, bar_width, label='Female Means' )\n",
    "# barFemale = ax.bar(indx + (bar_width), female_mean, bar_width, label='Female Means' )\n",
    "# barFemale = ax.bar(indx + (bar_width*2), female_mean, bar_width, label='Female Means' )\n",
    "\n",
    "ax.set_xticks(indx)\n",
    "ax.set_xticklabels(subjects)\n",
    "\n",
    "ax.set_yticks(score_lable)\n",
    "ax.set_yticklabels(score_lable)\n",
    "\n",
    "ax.legend()\n",
    "\n",
    "for i in indx:\n",
    "    ax.annotate('{value:.0f}'.format(value =barFemale[i].get_height()),\n",
    "               xy = (barFemale[i].get_x()+barFemale[i].get_width()/2,barFemale[i].get_height()),\n",
    "               xytext=(0,3),\n",
    "               textcoords='offset points',\n",
    "               ha='center',\n",
    "               va='bottom')\n",
    "\n",
    "for i in indx:\n",
    "    ax.annotate('{value:.0f}'.format(value =barMale[i].get_height()),\n",
    "               xy = (barMale[i].get_x()+barMale[i].get_width()/2,barMale[i].get_height()),\n",
    "               xytext=(0,3),\n",
    "               textcoords='offset points',\n",
    "               ha='center',\n",
    "               va='bottom')\n",
    "    \n",
    "plt.show()"
   ]
  },
  {
   "cell_type": "code",
   "execution_count": 49,
   "id": "2396f0ae",
   "metadata": {},
   "outputs": [],
   "source": [
    "?ax.bar"
   ]
  },
  {
   "cell_type": "code",
   "execution_count": 74,
   "id": "da9ec01b",
   "metadata": {},
   "outputs": [
    {
     "ename": "AttributeError",
     "evalue": "'int' object has no attribute '0f'",
     "output_type": "error",
     "traceback": [
      "\u001b[1;31m---------------------------------------------------------------------------\u001b[0m",
      "\u001b[1;31mAttributeError\u001b[0m                            Traceback (most recent call last)",
      "\u001b[1;32m<ipython-input-74-db92f6b8cf19>\u001b[0m in \u001b[0;36m<module>\u001b[1;34m\u001b[0m\n\u001b[1;32m----> 1\u001b[1;33m \u001b[0mprint\u001b[0m\u001b[1;33m(\u001b[0m\u001b[1;34m'{0.0f}'\u001b[0m\u001b[1;33m.\u001b[0m\u001b[0mformat\u001b[0m\u001b[1;33m(\u001b[0m\u001b[1;36m4\u001b[0m\u001b[1;33m,\u001b[0m\u001b[1;36m239\u001b[0m\u001b[1;33m)\u001b[0m\u001b[1;33m)\u001b[0m\u001b[1;33m\u001b[0m\u001b[1;33m\u001b[0m\u001b[0m\n\u001b[0m",
      "\u001b[1;31mAttributeError\u001b[0m: 'int' object has no attribute '0f'"
     ]
    }
   ],
   "source": [
    "print('{0.0f}'.format(4,239))"
   ]
  },
  {
   "cell_type": "code",
   "execution_count": null,
   "id": "5b6c7369",
   "metadata": {},
   "outputs": [],
   "source": []
  }
 ],
 "metadata": {
  "kernelspec": {
   "display_name": "Python 3",
   "language": "python",
   "name": "python3"
  },
  "language_info": {
   "codemirror_mode": {
    "name": "ipython",
    "version": 3
   },
   "file_extension": ".py",
   "mimetype": "text/x-python",
   "name": "python",
   "nbconvert_exporter": "python",
   "pygments_lexer": "ipython3",
   "version": "3.8.8"
  }
 },
 "nbformat": 4,
 "nbformat_minor": 5
}
