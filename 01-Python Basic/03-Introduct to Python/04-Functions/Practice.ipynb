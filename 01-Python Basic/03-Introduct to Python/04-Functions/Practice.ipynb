{
 "cells": [
  {
   "cell_type": "code",
   "execution_count": 6,
   "id": "14bdf0e6",
   "metadata": {},
   "outputs": [
    {
     "data": {
      "text/plain": [
       "8"
      ]
     },
     "execution_count": 6,
     "metadata": {},
     "output_type": "execute_result"
    }
   ],
   "source": [
    "max([x for x in range(10) if x % 2 == 0 if x %4 == 0])"
   ]
  },
  {
   "cell_type": "code",
   "execution_count": 4,
   "id": "0bab3623",
   "metadata": {},
   "outputs": [],
   "source": [
    "def scream():\n",
    "    print('Hello World!!!')"
   ]
  },
  {
   "cell_type": "code",
   "execution_count": 5,
   "id": "52c27e48",
   "metadata": {},
   "outputs": [
    {
     "name": "stdout",
     "output_type": "stream",
     "text": [
      "Hello World!!!\n"
     ]
    }
   ],
   "source": [
    "scream()"
   ]
  },
  {
   "cell_type": "code",
   "execution_count": 7,
   "id": "b3bcaef8",
   "metadata": {},
   "outputs": [],
   "source": [
    "lst = [x for x in range(1,20,4)]"
   ]
  },
  {
   "cell_type": "code",
   "execution_count": 8,
   "id": "9b8da48a",
   "metadata": {},
   "outputs": [
    {
     "data": {
      "text/plain": [
       "[1, 5, 9, 13, 17]"
      ]
     },
     "execution_count": 8,
     "metadata": {},
     "output_type": "execute_result"
    }
   ],
   "source": [
    "lst"
   ]
  },
  {
   "cell_type": "code",
   "execution_count": 9,
   "id": "0b0c1643",
   "metadata": {},
   "outputs": [
    {
     "data": {
      "text/plain": [
       "17"
      ]
     },
     "execution_count": 9,
     "metadata": {},
     "output_type": "execute_result"
    }
   ],
   "source": [
    "max(lst)"
   ]
  },
  {
   "cell_type": "code",
   "execution_count": 10,
   "id": "43fea2d5",
   "metadata": {},
   "outputs": [
    {
     "data": {
      "text/plain": [
       "1"
      ]
     },
     "execution_count": 10,
     "metadata": {},
     "output_type": "execute_result"
    }
   ],
   "source": [
    "min(lst)"
   ]
  },
  {
   "cell_type": "code",
   "execution_count": 11,
   "id": "4aaaf535",
   "metadata": {},
   "outputs": [
    {
     "data": {
      "text/plain": [
       "45"
      ]
     },
     "execution_count": 11,
     "metadata": {},
     "output_type": "execute_result"
    }
   ],
   "source": [
    "sum(lst)"
   ]
  },
  {
   "cell_type": "code",
   "execution_count": 12,
   "id": "fda7365a",
   "metadata": {},
   "outputs": [],
   "source": [
    "lst2 = [x for x in range(0,19,4)]"
   ]
  },
  {
   "cell_type": "code",
   "execution_count": 13,
   "id": "09b88b30",
   "metadata": {},
   "outputs": [
    {
     "data": {
      "text/plain": [
       "[0, 4, 8, 12, 16]"
      ]
     },
     "execution_count": 13,
     "metadata": {},
     "output_type": "execute_result"
    }
   ],
   "source": [
    "lst2"
   ]
  },
  {
   "cell_type": "code",
   "execution_count": 14,
   "id": "b49a33d5",
   "metadata": {},
   "outputs": [
    {
     "data": {
      "text/plain": [
       "85"
      ]
     },
     "execution_count": 14,
     "metadata": {},
     "output_type": "execute_result"
    }
   ],
   "source": [
    "sum(lst + lst2)"
   ]
  },
  {
   "cell_type": "code",
   "execution_count": 15,
   "id": "62ac1011",
   "metadata": {},
   "outputs": [
    {
     "data": {
      "text/plain": [
       "[1, 5, 9, 13, 17]"
      ]
     },
     "execution_count": 15,
     "metadata": {},
     "output_type": "execute_result"
    }
   ],
   "source": [
    "max(lst, lst2)"
   ]
  },
  {
   "cell_type": "code",
   "execution_count": 16,
   "id": "fc8462d0",
   "metadata": {},
   "outputs": [
    {
     "data": {
      "text/plain": [
       "17"
      ]
     },
     "execution_count": 16,
     "metadata": {},
     "output_type": "execute_result"
    }
   ],
   "source": [
    "max(lst)"
   ]
  },
  {
   "cell_type": "code",
   "execution_count": 17,
   "id": "c869e837",
   "metadata": {},
   "outputs": [
    {
     "data": {
      "text/plain": [
       "16"
      ]
     },
     "execution_count": 17,
     "metadata": {},
     "output_type": "execute_result"
    }
   ],
   "source": [
    "max(lst2)"
   ]
  },
  {
   "cell_type": "code",
   "execution_count": 19,
   "id": "be078f5f",
   "metadata": {},
   "outputs": [
    {
     "name": "stdout",
     "output_type": "stream",
     "text": [
      "1\n",
      "9\n",
      "17\n",
      "25\n",
      "33\n"
     ]
    }
   ],
   "source": [
    "for i, j in zip(lst, lst2):\n",
    "    print(i + j)"
   ]
  },
  {
   "cell_type": "code",
   "execution_count": 34,
   "id": "e3ab541e",
   "metadata": {},
   "outputs": [],
   "source": [
    "def squre(n):\n",
    "    sqr = n ** 2\n",
    "    nsum = n + 2\n",
    "    return sqr, nsum"
   ]
  },
  {
   "cell_type": "code",
   "execution_count": 35,
   "id": "7d9989e4",
   "metadata": {},
   "outputs": [],
   "source": [
    "a = squre(10)"
   ]
  },
  {
   "cell_type": "code",
   "execution_count": 36,
   "id": "41a9224d",
   "metadata": {},
   "outputs": [
    {
     "data": {
      "text/plain": [
       "tuple"
      ]
     },
     "execution_count": 36,
     "metadata": {},
     "output_type": "execute_result"
    }
   ],
   "source": [
    "type(squre(10))"
   ]
  },
  {
   "cell_type": "code",
   "execution_count": 37,
   "id": "81759012",
   "metadata": {},
   "outputs": [
    {
     "data": {
      "text/plain": [
       "(100, 12)"
      ]
     },
     "execution_count": 37,
     "metadata": {},
     "output_type": "execute_result"
    }
   ],
   "source": [
    "a"
   ]
  },
  {
   "cell_type": "code",
   "execution_count": 39,
   "id": "59f951b7",
   "metadata": {},
   "outputs": [],
   "source": [
    "def printmax(a=11, b = 4):\n",
    "    if a > b:\n",
    "        print (a, \"is Maximum\")\n",
    "    else:\n",
    "        print (b, \"is Maximum\")"
   ]
  },
  {
   "cell_type": "code",
   "execution_count": 40,
   "id": "aa4e31c0",
   "metadata": {},
   "outputs": [
    {
     "name": "stdout",
     "output_type": "stream",
     "text": [
      "11 is Maximum\n"
     ]
    }
   ],
   "source": [
    "printmax()"
   ]
  },
  {
   "cell_type": "code",
   "execution_count": 42,
   "id": "d81a4507",
   "metadata": {},
   "outputs": [
    {
     "name": "stdout",
     "output_type": "stream",
     "text": [
      "Help on function printmax in module __main__:\n",
      "\n",
      "printmax(a=11, b=4)\n",
      "\n"
     ]
    }
   ],
   "source": [
    "help(printmax)"
   ]
  },
  {
   "cell_type": "code",
   "execution_count": 44,
   "id": "4d993733",
   "metadata": {},
   "outputs": [
    {
     "name": "stdout",
     "output_type": "stream",
     "text": [
      "4 is Maximum\n"
     ]
    }
   ],
   "source": [
    "printmax(1)"
   ]
  },
  {
   "cell_type": "code",
   "execution_count": 50,
   "id": "b11b7704",
   "metadata": {},
   "outputs": [],
   "source": [
    "def my_function(child1, child2, child3):\n",
    "    if child1 > child2 and child1 > child3:\n",
    "        print(\"Child1 is eldest\")\n",
    "    elif child2 > child1 and child2 > child3:\n",
    "        print(\"Child2 is eldest\")\n",
    "    else:\n",
    "        print(\"Child3 is eldest\")"
   ]
  },
  {
   "cell_type": "code",
   "execution_count": 51,
   "id": "892e9418",
   "metadata": {},
   "outputs": [
    {
     "name": "stdout",
     "output_type": "stream",
     "text": [
      "Child2 is eldest\n"
     ]
    }
   ],
   "source": [
    "my_function(1,4,3)"
   ]
  },
  {
   "cell_type": "code",
   "execution_count": 52,
   "id": "a1724266",
   "metadata": {},
   "outputs": [],
   "source": [
    "def args_fun(*arg):\n",
    "    for x in arg:\n",
    "        print(x)"
   ]
  },
  {
   "cell_type": "code",
   "execution_count": 53,
   "id": "a7013db4",
   "metadata": {},
   "outputs": [
    {
     "name": "stdout",
     "output_type": "stream",
     "text": [
      "10\n",
      "5\n",
      "6\n"
     ]
    }
   ],
   "source": [
    "args_fun(10,5,6)"
   ]
  },
  {
   "cell_type": "code",
   "execution_count": 54,
   "id": "f78a1da4",
   "metadata": {},
   "outputs": [],
   "source": [
    "def kwargs_fun(**args):\n",
    "    for key in args.keys():\n",
    "        print(key)"
   ]
  },
  {
   "cell_type": "code",
   "execution_count": 58,
   "id": "f3cf168e",
   "metadata": {},
   "outputs": [
    {
     "name": "stdout",
     "output_type": "stream",
     "text": [
      "Name\n",
      "LastName\n"
     ]
    }
   ],
   "source": [
    "kwargs_fun(Name=\"Harish\", LastName=\"Kumar\")"
   ]
  },
  {
   "cell_type": "code",
   "execution_count": 59,
   "id": "74c1eb29",
   "metadata": {},
   "outputs": [
    {
     "data": {
      "text/plain": [
       "64"
      ]
     },
     "execution_count": 59,
     "metadata": {},
     "output_type": "execute_result"
    }
   ],
   "source": [
    "(lambda x: x**2)(8)"
   ]
  },
  {
   "cell_type": "code",
   "execution_count": 61,
   "id": "e4028f3f",
   "metadata": {},
   "outputs": [],
   "source": [
    "sqrit = lambda x: x**2"
   ]
  },
  {
   "cell_type": "code",
   "execution_count": 62,
   "id": "f47cd16e",
   "metadata": {},
   "outputs": [
    {
     "data": {
      "text/plain": [
       "64"
      ]
     },
     "execution_count": 62,
     "metadata": {},
     "output_type": "execute_result"
    }
   ],
   "source": [
    "sqrit(8)"
   ]
  },
  {
   "cell_type": "code",
   "execution_count": 65,
   "id": "05c22e46",
   "metadata": {},
   "outputs": [
    {
     "data": {
      "text/plain": [
       "[<function __main__.<lambda>(x)>, [1, 2, 3]]"
      ]
     },
     "execution_count": 65,
     "metadata": {},
     "output_type": "execute_result"
    }
   ],
   "source": [
    "[lambda x: x ** 2, [1,2,3]]"
   ]
  },
  {
   "cell_type": "code",
   "execution_count": 67,
   "id": "87cf5070",
   "metadata": {},
   "outputs": [
    {
     "name": "stdout",
     "output_type": "stream",
     "text": [
      "2\n",
      "(100, 12)\n",
      "3\n",
      "(100, 12)\n",
      "22\n",
      "33\n"
     ]
    }
   ],
   "source": [
    "def funz(n):\n",
    "    print(n)\n",
    "    print(a)\n",
    "    return lambda a: a * n\n",
    "\n",
    "doubler = funz(2)\n",
    "tripler = funz(3)\n",
    "\n",
    "print(doubler(11))\n",
    "print(tripler(11))"
   ]
  },
  {
   "cell_type": "code",
   "execution_count": 68,
   "id": "d96d08d9",
   "metadata": {},
   "outputs": [
    {
     "name": "stdout",
     "output_type": "stream",
     "text": [
      "2\n",
      "(100, 12)\n",
      "<function funz.<locals>.<lambda> at 0x000001EFC6CBE9D0>\n"
     ]
    }
   ],
   "source": [
    "print(funz(2))"
   ]
  },
  {
   "cell_type": "code",
   "execution_count": 69,
   "id": "d44ea2ba",
   "metadata": {},
   "outputs": [
    {
     "name": "stdout",
     "output_type": "stream",
     "text": [
      "Object `funz(2)` not found.\n"
     ]
    }
   ],
   "source": [
    "?funz(2)"
   ]
  },
  {
   "cell_type": "code",
   "execution_count": 70,
   "id": "1a1587d7",
   "metadata": {},
   "outputs": [
    {
     "name": "stdout",
     "output_type": "stream",
     "text": [
      "Help on function funz in module __main__:\n",
      "\n",
      "funz(n)\n",
      "\n"
     ]
    }
   ],
   "source": [
    "help(funz)"
   ]
  },
  {
   "cell_type": "code",
   "execution_count": null,
   "id": "6fcad2d2",
   "metadata": {},
   "outputs": [],
   "source": []
  }
 ],
 "metadata": {
  "kernelspec": {
   "display_name": "Python 3",
   "language": "python",
   "name": "python3"
  },
  "language_info": {
   "codemirror_mode": {
    "name": "ipython",
    "version": 3
   },
   "file_extension": ".py",
   "mimetype": "text/x-python",
   "name": "python",
   "nbconvert_exporter": "python",
   "pygments_lexer": "ipython3",
   "version": "3.8.8"
  }
 },
 "nbformat": 4,
 "nbformat_minor": 5
}
