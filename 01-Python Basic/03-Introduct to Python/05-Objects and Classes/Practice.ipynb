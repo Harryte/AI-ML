{
 "cells": [
  {
   "cell_type": "code",
   "execution_count": 6,
   "id": "246224c8",
   "metadata": {},
   "outputs": [],
   "source": [
    "class employee:\n",
    "    def __init__(self, firstname, lastname, salary):\n",
    "        self.firstname = firstname\n",
    "        self.lastname = lastname\n",
    "        self.salary = salary\n",
    "        self.email = firstname+\".\"+lastname+\"@xyz.com\"\n",
    "    \n",
    "    def fullname(self):\n",
    "        print(self.firstname + \" \" + self.lastname)"
   ]
  },
  {
   "cell_type": "code",
   "execution_count": 7,
   "id": "779a7f2d",
   "metadata": {},
   "outputs": [],
   "source": [
    "emp1 = employee('harish','kumar','50lakhs')"
   ]
  },
  {
   "cell_type": "code",
   "execution_count": 3,
   "id": "dde63f93",
   "metadata": {},
   "outputs": [
    {
     "name": "stdout",
     "output_type": "stream",
     "text": [
      "<__main__.employee object at 0x000001825FFD67F0>\n"
     ]
    }
   ],
   "source": [
    "print(emp1)"
   ]
  },
  {
   "cell_type": "code",
   "execution_count": 4,
   "id": "d5a59b34",
   "metadata": {},
   "outputs": [
    {
     "data": {
      "text/plain": [
       "'50lakhs'"
      ]
     },
     "execution_count": 4,
     "metadata": {},
     "output_type": "execute_result"
    }
   ],
   "source": [
    "emp1.salary"
   ]
  },
  {
   "cell_type": "code",
   "execution_count": 5,
   "id": "f2380144",
   "metadata": {},
   "outputs": [
    {
     "data": {
      "text/plain": [
       "'harish.kumar@xyz.com'"
      ]
     },
     "execution_count": 5,
     "metadata": {},
     "output_type": "execute_result"
    }
   ],
   "source": [
    "emp1.email"
   ]
  },
  {
   "cell_type": "code",
   "execution_count": 8,
   "id": "a88a453e",
   "metadata": {},
   "outputs": [
    {
     "name": "stdout",
     "output_type": "stream",
     "text": [
      "harish kumar\n"
     ]
    }
   ],
   "source": [
    "emp1.fullname()"
   ]
  },
  {
   "cell_type": "code",
   "execution_count": 24,
   "id": "933b189e",
   "metadata": {},
   "outputs": [],
   "source": [
    "class developer(employee):\n",
    "    def __init__(self, firstname, lastname, salary, lang):\n",
    "        super().__init__(firstname, lastname, salary)\n",
    "        self.lang = lang\n",
    "    \n",
    "    def welcome(self):\n",
    "        print('Welcome {} for {}'.format(self.firstname, self.lang))"
   ]
  },
  {
   "cell_type": "code",
   "execution_count": 25,
   "id": "58768952",
   "metadata": {},
   "outputs": [],
   "source": [
    "dev1 = developer('harish','kumar','50lakhs','python')"
   ]
  },
  {
   "cell_type": "code",
   "execution_count": 26,
   "id": "3fd87772",
   "metadata": {},
   "outputs": [
    {
     "data": {
      "text/plain": [
       "'python'"
      ]
     },
     "execution_count": 26,
     "metadata": {},
     "output_type": "execute_result"
    }
   ],
   "source": [
    "dev1.lang"
   ]
  },
  {
   "cell_type": "code",
   "execution_count": 17,
   "id": "baa7ff4a",
   "metadata": {},
   "outputs": [
    {
     "name": "stdout",
     "output_type": "stream",
     "text": [
      "harish kumar\n"
     ]
    }
   ],
   "source": [
    "dev1.fullname()"
   ]
  },
  {
   "cell_type": "code",
   "execution_count": 18,
   "id": "298f0be7",
   "metadata": {},
   "outputs": [
    {
     "data": {
      "text/plain": [
       "'harish'"
      ]
     },
     "execution_count": 18,
     "metadata": {},
     "output_type": "execute_result"
    }
   ],
   "source": [
    "dev1.firstname"
   ]
  },
  {
   "cell_type": "code",
   "execution_count": 27,
   "id": "9e73c562",
   "metadata": {},
   "outputs": [
    {
     "name": "stdout",
     "output_type": "stream",
     "text": [
      "Welcome harish for python\n"
     ]
    }
   ],
   "source": [
    "dev1.welcome()"
   ]
  },
  {
   "cell_type": "code",
   "execution_count": null,
   "id": "bb60fd42",
   "metadata": {},
   "outputs": [],
   "source": []
  }
 ],
 "metadata": {
  "kernelspec": {
   "display_name": "Python 3",
   "language": "python",
   "name": "python3"
  },
  "language_info": {
   "codemirror_mode": {
    "name": "ipython",
    "version": 3
   },
   "file_extension": ".py",
   "mimetype": "text/x-python",
   "name": "python",
   "nbconvert_exporter": "python",
   "pygments_lexer": "ipython3",
   "version": "3.8.8"
  }
 },
 "nbformat": 4,
 "nbformat_minor": 5
}
