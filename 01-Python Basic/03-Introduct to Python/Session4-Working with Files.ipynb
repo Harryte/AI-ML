{
 "cells": [
  {
   "cell_type": "code",
   "execution_count": 1,
   "id": "1bc179d5",
   "metadata": {},
   "outputs": [],
   "source": [
    "import os"
   ]
  },
  {
   "cell_type": "code",
   "execution_count": 2,
   "id": "67ccc1bc",
   "metadata": {},
   "outputs": [],
   "source": [
    "os.mkdir('Session4')"
   ]
  },
  {
   "cell_type": "code",
   "execution_count": 5,
   "id": "8e418b44",
   "metadata": {},
   "outputs": [
    {
     "data": {
      "text/plain": [
       "datetime.date(2021, 7, 11)"
      ]
     },
     "execution_count": 5,
     "metadata": {},
     "output_type": "execute_result"
    }
   ],
   "source": [
    "import datetime as dt\n",
    "dt.date.today()\n",
    "\n",
    "today = dt.date.today()\n",
    "today"
   ]
  },
  {
   "cell_type": "code",
   "execution_count": 6,
   "id": "2d4179d1",
   "metadata": {},
   "outputs": [],
   "source": [
    "os.mkdir(str(today))"
   ]
  },
  {
   "cell_type": "code",
   "execution_count": 7,
   "id": "8eb3ddbb",
   "metadata": {},
   "outputs": [
    {
     "data": {
      "text/plain": [
       "['.ipynb_checkpoints',\n",
       " '02-Data-Structures',\n",
       " '03-Control-Structure',\n",
       " '04-Functions',\n",
       " '05-Objects and Classes',\n",
       " '2021-07-11',\n",
       " 'Introduction-DataTypes.ipynb',\n",
       " 'Map, Reduce & Filter.ipynb',\n",
       " 'Session4',\n",
       " 'Session4-Working with Files.ipynb',\n",
       " 'StringFunctions.ipynb']"
      ]
     },
     "execution_count": 7,
     "metadata": {},
     "output_type": "execute_result"
    }
   ],
   "source": [
    "os.listdir()"
   ]
  },
  {
   "cell_type": "code",
   "execution_count": 8,
   "id": "01fe6174",
   "metadata": {},
   "outputs": [
    {
     "name": "stdout",
     "output_type": "stream",
     "text": [
      "Hello\n",
      "Mr\n",
      "Machine\n",
      "Learning\n",
      "Engineer\n"
     ]
    }
   ],
   "source": [
    "myfile = open('./Session4/untitled.txt')\n",
    "print(myfile.read())\n",
    "myfile.close()"
   ]
  },
  {
   "cell_type": "code",
   "execution_count": 9,
   "id": "148d51b4",
   "metadata": {},
   "outputs": [
    {
     "name": "stdout",
     "output_type": "stream",
     "text": [
      "Hello\n",
      "\n",
      "Mr\n",
      "\n"
     ]
    }
   ],
   "source": [
    "myfile = open('./Session4/untitled.txt',\"r\")\n",
    "print(myfile.readline())\n",
    "print(myfile.readline())\n",
    "myfile.close()"
   ]
  },
  {
   "cell_type": "code",
   "execution_count": 10,
   "id": "b8736f4c",
   "metadata": {},
   "outputs": [
    {
     "name": "stdout",
     "output_type": "stream",
     "text": [
      "Hello\n"
     ]
    }
   ],
   "source": [
    "myfile = open('./Session4/untitled.txt')\n",
    "print(myfile.read(5))\n",
    "myfile.close()"
   ]
  },
  {
   "cell_type": "code",
   "execution_count": 11,
   "id": "ece5acba",
   "metadata": {},
   "outputs": [
    {
     "name": "stdout",
     "output_type": "stream",
     "text": [
      "['Hello\\n', 'Mr\\n', 'Machine\\n', 'Learning\\n', 'Engineer']\n"
     ]
    }
   ],
   "source": [
    "myfile = open('./Session4/untitled.txt')\n",
    "print(myfile.readlines())\n",
    "myfile.close()"
   ]
  },
  {
   "cell_type": "code",
   "execution_count": 12,
   "id": "5910b6fa",
   "metadata": {},
   "outputs": [],
   "source": [
    "with open('./Session4/untitled.txt', \"r\") as myfile:\n",
    "    myfile.readlines()"
   ]
  },
  {
   "cell_type": "code",
   "execution_count": 14,
   "id": "c1f97773",
   "metadata": {},
   "outputs": [
    {
     "data": {
      "text/plain": [
       "2"
      ]
     },
     "execution_count": 14,
     "metadata": {},
     "output_type": "execute_result"
    }
   ],
   "source": [
    "f1 = open(\"text.txt\", \"w\")\n",
    "f1.write(\"Hi\")\n",
    "f1.close()"
   ]
  },
  {
   "cell_type": "code",
   "execution_count": 15,
   "id": "07de0f88",
   "metadata": {},
   "outputs": [],
   "source": [
    "wit "
   ]
  },
  {
   "cell_type": "code",
   "execution_count": null,
   "id": "affa1c2e",
   "metadata": {},
   "outputs": [],
   "source": []
  }
 ],
 "metadata": {
  "kernelspec": {
   "display_name": "Python 3",
   "language": "python",
   "name": "python3"
  },
  "language_info": {
   "codemirror_mode": {
    "name": "ipython",
    "version": 3
   },
   "file_extension": ".py",
   "mimetype": "text/x-python",
   "name": "python",
   "nbconvert_exporter": "python",
   "pygments_lexer": "ipython3",
   "version": "3.8.8"
  }
 },
 "nbformat": 4,
 "nbformat_minor": 5
}
