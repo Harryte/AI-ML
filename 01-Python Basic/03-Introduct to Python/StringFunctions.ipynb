{
 "cells": [
  {
   "cell_type": "code",
   "execution_count": 1,
   "id": "bb1cf2d3",
   "metadata": {},
   "outputs": [
    {
     "name": "stdout",
     "output_type": "stream",
     "text": [
      "Hello World  \n"
     ]
    }
   ],
   "source": [
    "print(\"Hello World  \")"
   ]
  },
  {
   "cell_type": "code",
   "execution_count": 2,
   "id": "69b34fc6",
   "metadata": {},
   "outputs": [
    {
     "name": "stdout",
     "output_type": "stream",
     "text": [
      "Hello World  \n",
      "Hello World\n"
     ]
    }
   ],
   "source": [
    "str = \"Hello World  \"\n",
    "print(str)\n",
    "print(str.rstrip())"
   ]
  },
  {
   "cell_type": "code",
   "execution_count": 4,
   "id": "4aca602b",
   "metadata": {},
   "outputs": [
    {
     "name": "stdout",
     "output_type": "stream",
     "text": [
      "   Hello World\n",
      "Hello World\n"
     ]
    }
   ],
   "source": [
    "str = \"   Hello World\"\n",
    "print(str)\n",
    "print(str.lstrip())"
   ]
  },
  {
   "cell_type": "code",
   "execution_count": 5,
   "id": "d2890e07",
   "metadata": {},
   "outputs": [
    {
     "name": "stdout",
     "output_type": "stream",
     "text": [
      "   Hello World    \n",
      "Hello World\n"
     ]
    }
   ],
   "source": [
    "str = \"   Hello World    \"\n",
    "print(str)\n",
    "print(str.strip())"
   ]
  },
  {
   "cell_type": "code",
   "execution_count": 7,
   "id": "37503970",
   "metadata": {},
   "outputs": [
    {
     "name": "stdout",
     "output_type": "stream",
     "text": [
      "Hello World!!!\n",
      "Hello World\n"
     ]
    }
   ],
   "source": [
    "str = \"Hello World!!!\"\n",
    "print(str)\n",
    "print(str.strip(\"!\"))"
   ]
  },
  {
   "cell_type": "code",
   "execution_count": 9,
   "id": "bb96d855",
   "metadata": {},
   "outputs": [
    {
     "name": "stdout",
     "output_type": "stream",
     "text": [
      "%%%Hello World!!!\n",
      "Hello World\n"
     ]
    }
   ],
   "source": [
    "str = \"%%%Hello World!!!\"\n",
    "print(str)\n",
    "print(str.lstrip(\"%\").rstrip(\"!\"))"
   ]
  },
  {
   "cell_type": "markdown",
   "id": "45993cfe",
   "metadata": {},
   "source": [
    "## String indexing"
   ]
  },
  {
   "cell_type": "code",
   "execution_count": 10,
   "id": "daa45216",
   "metadata": {},
   "outputs": [
    {
     "name": "stdout",
     "output_type": "stream",
     "text": [
      "2\n"
     ]
    }
   ],
   "source": [
    "val = \"2 apples\"\n",
    "print(val[0])"
   ]
  },
  {
   "cell_type": "code",
   "execution_count": 11,
   "id": "72a2fe21",
   "metadata": {},
   "outputs": [
    {
     "name": "stdout",
     "output_type": "stream",
     "text": [
      "apples\n"
     ]
    }
   ],
   "source": [
    "print(val[2:])"
   ]
  },
  {
   "cell_type": "code",
   "execution_count": 12,
   "id": "545fac99",
   "metadata": {},
   "outputs": [
    {
     "name": "stdout",
     "output_type": "stream",
     "text": [
      "a\n"
     ]
    }
   ],
   "source": [
    "print(val[2:3])"
   ]
  },
  {
   "cell_type": "code",
   "execution_count": 13,
   "id": "92b7f849",
   "metadata": {},
   "outputs": [
    {
     "name": "stdout",
     "output_type": "stream",
     "text": [
      "apple\n"
     ]
    }
   ],
   "source": [
    "print(val[2:7])"
   ]
  },
  {
   "cell_type": "code",
   "execution_count": 14,
   "id": "fc192100",
   "metadata": {},
   "outputs": [
    {
     "name": "stdout",
     "output_type": "stream",
     "text": [
      "s\n"
     ]
    }
   ],
   "source": [
    "print(val[-1])"
   ]
  },
  {
   "cell_type": "code",
   "execution_count": 15,
   "id": "04592fae",
   "metadata": {},
   "outputs": [
    {
     "name": "stdout",
     "output_type": "stream",
     "text": [
      "e\n"
     ]
    }
   ],
   "source": [
    "print(val[-2])"
   ]
  },
  {
   "cell_type": "code",
   "execution_count": 16,
   "id": "f7a1bb21",
   "metadata": {},
   "outputs": [
    {
     "name": "stdout",
     "output_type": "stream",
     "text": [
      "s\n"
     ]
    }
   ],
   "source": [
    "print(val[-1:])"
   ]
  },
  {
   "cell_type": "code",
   "execution_count": 17,
   "id": "8cd0d193",
   "metadata": {},
   "outputs": [
    {
     "name": "stdout",
     "output_type": "stream",
     "text": [
      "\n"
     ]
    }
   ],
   "source": [
    "print(val[-1:0])"
   ]
  },
  {
   "cell_type": "code",
   "execution_count": 18,
   "id": "5d997f55",
   "metadata": {},
   "outputs": [
    {
     "name": "stdout",
     "output_type": "stream",
     "text": [
      "s\n"
     ]
    }
   ],
   "source": [
    "print(val[-1:10])"
   ]
  },
  {
   "cell_type": "code",
   "execution_count": 19,
   "id": "591d7f5b",
   "metadata": {},
   "outputs": [
    {
     "name": "stdout",
     "output_type": "stream",
     "text": [
      "\n"
     ]
    }
   ],
   "source": [
    "print(val[-1:-7])"
   ]
  },
  {
   "cell_type": "code",
   "execution_count": 20,
   "id": "18e0a0e4",
   "metadata": {},
   "outputs": [
    {
     "name": "stdout",
     "output_type": "stream",
     "text": [
      "e\n"
     ]
    }
   ],
   "source": [
    "print(val[-2])"
   ]
  },
  {
   "cell_type": "code",
   "execution_count": 33,
   "id": "8551b000",
   "metadata": {},
   "outputs": [
    {
     "name": "stdout",
     "output_type": "stream",
     "text": [
      "\n"
     ]
    }
   ],
   "source": [
    "print(val[-1:-2])"
   ]
  },
  {
   "cell_type": "code",
   "execution_count": 34,
   "id": "44eb8dd8",
   "metadata": {},
   "outputs": [
    {
     "name": "stdout",
     "output_type": "stream",
     "text": [
      "appl\n"
     ]
    }
   ],
   "source": [
    "print(val[2:-2])"
   ]
  },
  {
   "cell_type": "code",
   "execution_count": 37,
   "id": "852e3022",
   "metadata": {},
   "outputs": [
    {
     "name": "stdout",
     "output_type": "stream",
     "text": [
      "selppa 2\n"
     ]
    }
   ],
   "source": [
    "print(val[::-1])"
   ]
  },
  {
   "cell_type": "code",
   "execution_count": 40,
   "id": "3716cda6",
   "metadata": {},
   "outputs": [
    {
     "name": "stdout",
     "output_type": "stream",
     "text": [
      "2 apples\n"
     ]
    }
   ],
   "source": [
    "print(val[0::1])"
   ]
  },
  {
   "cell_type": "code",
   "execution_count": 41,
   "id": "512490e0",
   "metadata": {},
   "outputs": [],
   "source": [
    "nums = '123456789'"
   ]
  },
  {
   "cell_type": "code",
   "execution_count": 43,
   "id": "da90269b",
   "metadata": {},
   "outputs": [
    {
     "name": "stdout",
     "output_type": "stream",
     "text": [
      "13579\n"
     ]
    }
   ],
   "source": [
    "print(nums[::2])"
   ]
  },
  {
   "cell_type": "code",
   "execution_count": 44,
   "id": "8db4ac38",
   "metadata": {},
   "outputs": [
    {
     "name": "stdout",
     "output_type": "stream",
     "text": [
      "2468\n"
     ]
    }
   ],
   "source": [
    "print(nums[1::2])"
   ]
  },
  {
   "cell_type": "code",
   "execution_count": 47,
   "id": "8995c17f",
   "metadata": {},
   "outputs": [
    {
     "name": "stdout",
     "output_type": "stream",
     "text": [
      "Hello Good Morning Minchu!!\n"
     ]
    }
   ],
   "source": [
    "a = \"Hello\"\n",
    "b = \"Minchu\"\n",
    "print('{0} Good Morning {1}!!'.format(a, b))"
   ]
  },
  {
   "cell_type": "code",
   "execution_count": 48,
   "id": "69f30eb6",
   "metadata": {},
   "outputs": [
    {
     "data": {
      "text/plain": [
       "4"
      ]
     },
     "execution_count": 48,
     "metadata": {},
     "output_type": "execute_result"
    }
   ],
   "source": [
    "2 + 2"
   ]
  },
  {
   "cell_type": "code",
   "execution_count": 52,
   "id": "acc734fa",
   "metadata": {},
   "outputs": [
    {
     "data": {
      "text/plain": [
       "11.0"
      ]
     },
     "execution_count": 52,
     "metadata": {},
     "output_type": "execute_result"
    }
   ],
   "source": [
    "(2 + 5 * 4) / 2"
   ]
  },
  {
   "cell_type": "code",
   "execution_count": 53,
   "id": "f595c27b",
   "metadata": {},
   "outputs": [
    {
     "data": {
      "text/plain": [
       "5.666666666666667"
      ]
     },
     "execution_count": 53,
     "metadata": {},
     "output_type": "execute_result"
    }
   ],
   "source": [
    "17 / 3"
   ]
  },
  {
   "cell_type": "code",
   "execution_count": 54,
   "id": "235dfdad",
   "metadata": {},
   "outputs": [
    {
     "data": {
      "text/plain": [
       "5"
      ]
     },
     "execution_count": 54,
     "metadata": {},
     "output_type": "execute_result"
    }
   ],
   "source": [
    "17 // 3"
   ]
  },
  {
   "cell_type": "code",
   "execution_count": 56,
   "id": "d1cb4474",
   "metadata": {},
   "outputs": [
    {
     "data": {
      "text/plain": [
       "2"
      ]
     },
     "execution_count": 56,
     "metadata": {},
     "output_type": "execute_result"
    }
   ],
   "source": [
    "17 % 3"
   ]
  },
  {
   "cell_type": "code",
   "execution_count": 57,
   "id": "d83c005d",
   "metadata": {},
   "outputs": [
    {
     "data": {
      "text/plain": [
       "25"
      ]
     },
     "execution_count": 57,
     "metadata": {},
     "output_type": "execute_result"
    }
   ],
   "source": [
    "5 ** 2"
   ]
  },
  {
   "cell_type": "code",
   "execution_count": 58,
   "id": "af539403",
   "metadata": {},
   "outputs": [
    {
     "data": {
      "text/plain": [
       "128"
      ]
     },
     "execution_count": 58,
     "metadata": {},
     "output_type": "execute_result"
    }
   ],
   "source": [
    "2 ** 7"
   ]
  },
  {
   "cell_type": "code",
   "execution_count": 59,
   "id": "d46cafc0",
   "metadata": {},
   "outputs": [
    {
     "data": {
      "text/plain": [
       "138"
      ]
     },
     "execution_count": 59,
     "metadata": {},
     "output_type": "execute_result"
    }
   ],
   "source": [
    "10 + _"
   ]
  },
  {
   "cell_type": "code",
   "execution_count": 60,
   "id": "82e02639",
   "metadata": {},
   "outputs": [
    {
     "data": {
      "text/plain": [
       "148"
      ]
     },
     "execution_count": 60,
     "metadata": {},
     "output_type": "execute_result"
    }
   ],
   "source": [
    "10 + _"
   ]
  },
  {
   "cell_type": "code",
   "execution_count": 61,
   "id": "2b005656",
   "metadata": {},
   "outputs": [
    {
     "name": "stdout",
     "output_type": "stream",
     "text": [
      "148\n"
     ]
    }
   ],
   "source": [
    "val = _\n",
    "print(val)"
   ]
  },
  {
   "cell_type": "code",
   "execution_count": 62,
   "id": "d7fd1bdf",
   "metadata": {},
   "outputs": [
    {
     "name": "stdout",
     "output_type": "stream",
     "text": [
      "Doesn't\n"
     ]
    }
   ],
   "source": [
    "print(\"Doesn't\")"
   ]
  },
  {
   "cell_type": "code",
   "execution_count": 63,
   "id": "abdfff53",
   "metadata": {},
   "outputs": [
    {
     "name": "stdout",
     "output_type": "stream",
     "text": [
      "Doesn't\n"
     ]
    }
   ],
   "source": [
    "print('Doesn\\'t')"
   ]
  },
  {
   "cell_type": "code",
   "execution_count": 64,
   "id": "00335de1",
   "metadata": {},
   "outputs": [
    {
     "name": "stdout",
     "output_type": "stream",
     "text": [
      "Thanks 'Harish'\n"
     ]
    }
   ],
   "source": [
    "print(\"Thanks 'Harish'\")"
   ]
  },
  {
   "cell_type": "code",
   "execution_count": 66,
   "id": "650a97da",
   "metadata": {},
   "outputs": [
    {
     "name": "stdout",
     "output_type": "stream",
     "text": [
      "Thanks \"Harish\"\n"
     ]
    }
   ],
   "source": [
    "print(\"Thanks \\\"Harish\\\"\")"
   ]
  },
  {
   "cell_type": "code",
   "execution_count": 68,
   "id": "351d8b87",
   "metadata": {},
   "outputs": [
    {
     "name": "stdout",
     "output_type": "stream",
     "text": [
      "Pytho\n"
     ]
    }
   ],
   "source": [
    "val = \"I love Python programming\"\n",
    "print(val[7:12])"
   ]
  },
  {
   "cell_type": "code",
   "execution_count": 74,
   "id": "14110180",
   "metadata": {},
   "outputs": [
    {
     "name": "stdout",
     "output_type": "stream",
     "text": [
      "Python\n"
     ]
    }
   ],
   "source": [
    "print(val[-18:-12])"
   ]
  },
  {
   "cell_type": "code",
   "execution_count": 75,
   "id": "7d1663cf",
   "metadata": {},
   "outputs": [
    {
     "data": {
      "text/plain": [
       "6"
      ]
     },
     "execution_count": 75,
     "metadata": {},
     "output_type": "execute_result"
    }
   ],
   "source": [
    "len('python')"
   ]
  },
  {
   "cell_type": "code",
   "execution_count": null,
   "id": "d250c122",
   "metadata": {},
   "outputs": [],
   "source": []
  }
 ],
 "metadata": {
  "kernelspec": {
   "display_name": "Python 3",
   "language": "python",
   "name": "python3"
  },
  "language_info": {
   "codemirror_mode": {
    "name": "ipython",
    "version": 3
   },
   "file_extension": ".py",
   "mimetype": "text/x-python",
   "name": "python",
   "nbconvert_exporter": "python",
   "pygments_lexer": "ipython3",
   "version": "3.8.8"
  }
 },
 "nbformat": 4,
 "nbformat_minor": 5
}
